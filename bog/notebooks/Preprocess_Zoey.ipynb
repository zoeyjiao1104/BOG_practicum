{
 "cells": [
  {
   "cell_type": "code",
   "execution_count": 75,
   "id": "5fd04bbb-b615-4faa-a322-e23b3a75e5a1",
   "metadata": {
    "execution": {
     "iopub.execute_input": "2022-11-21T23:24:54.279687Z",
     "iopub.status.busy": "2022-11-21T23:24:54.279331Z",
     "iopub.status.idle": "2022-11-21T23:24:54.283268Z",
     "shell.execute_reply": "2022-11-21T23:24:54.282527Z",
     "shell.execute_reply.started": "2022-11-21T23:24:54.279661Z"
    },
    "tags": []
   },
   "outputs": [],
   "source": [
    "# Only uncomment if you are running notebook using Docker image\n",
    "import os; os.environ['PROJ_LIB'] = '/opt/conda/share/proj'"
   ]
  },
  {
   "cell_type": "code",
   "execution_count": 83,
   "id": "f54857bc-c85f-49c4-983a-84aa23b09d24",
   "metadata": {
    "execution": {
     "iopub.execute_input": "2022-11-21T23:27:39.598499Z",
     "iopub.status.busy": "2022-11-21T23:27:39.597973Z",
     "iopub.status.idle": "2022-11-21T23:27:39.601603Z",
     "shell.execute_reply": "2022-11-21T23:27:39.600889Z",
     "shell.execute_reply.started": "2022-11-21T23:27:39.598470Z"
    },
    "tags": []
   },
   "outputs": [],
   "source": [
    "\n",
    "import pandas as pd\n",
    "import numpy as np"
   ]
  },
  {
   "cell_type": "code",
   "execution_count": 84,
   "id": "7f245740-8d99-47fd-8fb6-0e5690926dfe",
   "metadata": {
    "execution": {
     "iopub.execute_input": "2022-11-21T23:27:39.840964Z",
     "iopub.status.busy": "2022-11-21T23:27:39.840608Z",
     "iopub.status.idle": "2022-11-21T23:27:39.847750Z",
     "shell.execute_reply": "2022-11-21T23:27:39.847178Z",
     "shell.execute_reply.started": "2022-11-21T23:27:39.840938Z"
    },
    "tags": []
   },
   "outputs": [],
   "source": [
    "# Load dataset\n",
    "df = pd.read_csv(\"mock_particle_trajectory.csv\")"
   ]
  },
  {
   "cell_type": "code",
   "execution_count": 49,
   "id": "95d706be-6ac1-47c9-ae1d-1277701b4733",
   "metadata": {
    "execution": {
     "iopub.execute_input": "2022-11-21T23:07:39.235594Z",
     "iopub.status.busy": "2022-11-21T23:07:39.235213Z",
     "iopub.status.idle": "2022-11-21T23:07:39.246819Z",
     "shell.execute_reply": "2022-11-21T23:07:39.246197Z",
     "shell.execute_reply.started": "2022-11-21T23:07:39.235566Z"
    },
    "tags": []
   },
   "outputs": [
    {
     "data": {
      "text/html": [
       "<div>\n",
       "<style scoped>\n",
       "    .dataframe tbody tr th:only-of-type {\n",
       "        vertical-align: middle;\n",
       "    }\n",
       "\n",
       "    .dataframe tbody tr th {\n",
       "        vertical-align: top;\n",
       "    }\n",
       "\n",
       "    .dataframe thead th {\n",
       "        text-align: right;\n",
       "    }\n",
       "</style>\n",
       "<table border=\"1\" class=\"dataframe\">\n",
       "  <thead>\n",
       "    <tr style=\"text-align: right;\">\n",
       "      <th></th>\n",
       "      <th>trajectory_id</th>\n",
       "      <th>datetime</th>\n",
       "      <th>latitude</th>\n",
       "      <th>longitude</th>\n",
       "      <th>temperature</th>\n",
       "    </tr>\n",
       "  </thead>\n",
       "  <tbody>\n",
       "    <tr>\n",
       "      <th>0</th>\n",
       "      <td>1</td>\n",
       "      <td>4/13/2022 21:00</td>\n",
       "      <td>47.484776</td>\n",
       "      <td>-63.311108</td>\n",
       "      <td>2</td>\n",
       "    </tr>\n",
       "    <tr>\n",
       "      <th>1</th>\n",
       "      <td>1</td>\n",
       "      <td>4/13/2022 21:10</td>\n",
       "      <td>47.484440</td>\n",
       "      <td>-63.311733</td>\n",
       "      <td>3</td>\n",
       "    </tr>\n",
       "    <tr>\n",
       "      <th>2</th>\n",
       "      <td>1</td>\n",
       "      <td>4/13/2022 21:20</td>\n",
       "      <td>47.484764</td>\n",
       "      <td>-63.311810</td>\n",
       "      <td>0</td>\n",
       "    </tr>\n",
       "    <tr>\n",
       "      <th>3</th>\n",
       "      <td>1</td>\n",
       "      <td>4/13/2022 21:30</td>\n",
       "      <td>47.484920</td>\n",
       "      <td>-63.311733</td>\n",
       "      <td>-1</td>\n",
       "    </tr>\n",
       "    <tr>\n",
       "      <th>4</th>\n",
       "      <td>1</td>\n",
       "      <td>4/13/2022 21:40</td>\n",
       "      <td>47.485010</td>\n",
       "      <td>-63.311676</td>\n",
       "      <td>-1</td>\n",
       "    </tr>\n",
       "  </tbody>\n",
       "</table>\n",
       "</div>"
      ],
      "text/plain": [
       "   trajectory_id         datetime   latitude  longitude  temperature\n",
       "0              1  4/13/2022 21:00  47.484776 -63.311108            2\n",
       "1              1  4/13/2022 21:10  47.484440 -63.311733            3\n",
       "2              1  4/13/2022 21:20  47.484764 -63.311810            0\n",
       "3              1  4/13/2022 21:30  47.484920 -63.311733           -1\n",
       "4              1  4/13/2022 21:40  47.485010 -63.311676           -1"
      ]
     },
     "execution_count": 49,
     "metadata": {},
     "output_type": "execute_result"
    }
   ],
   "source": [
    "df.head()"
   ]
  },
  {
   "cell_type": "code",
   "execution_count": 78,
   "id": "daff901b-e8c7-4305-9aad-43b810577497",
   "metadata": {
    "execution": {
     "iopub.execute_input": "2022-11-21T23:24:58.705523Z",
     "iopub.status.busy": "2022-11-21T23:24:58.705030Z",
     "iopub.status.idle": "2022-11-21T23:24:58.710942Z",
     "shell.execute_reply": "2022-11-21T23:24:58.710328Z",
     "shell.execute_reply.started": "2022-11-21T23:24:58.705497Z"
    },
    "tags": []
   },
   "outputs": [],
   "source": [
    "def datetime_to_timestamp(dt):\n",
    "    #dt is a datetime object\n",
    "    #convert to timestamp integer \n",
    "    return datetime.strptime(dt, '%m/%d/%Y %H:%M').minute"
   ]
  },
  {
   "cell_type": "code",
   "execution_count": 82,
   "id": "cf3b31d2-7068-488a-94da-b389e8bd8c7d",
   "metadata": {
    "execution": {
     "iopub.execute_input": "2022-11-21T23:27:36.742174Z",
     "iopub.status.busy": "2022-11-21T23:27:36.741777Z",
     "iopub.status.idle": "2022-11-21T23:27:36.746586Z",
     "shell.execute_reply": "2022-11-21T23:27:36.745919Z",
     "shell.execute_reply.started": "2022-11-21T23:27:36.742146Z"
    },
    "tags": []
   },
   "outputs": [],
   "source": [
    "def mask_rows(df, timestamp_min, mask_val, mask_lst):\n",
    "    df['timestamp_minute'] = df['datetime'].map(lambda x: datetime_to_timestamp(x))\n",
    "    for i in range(len(df.timestamp_minute)):\n",
    "        if(df['timestamp_minute'][i] != timestamp_min):\n",
    "            for col in mask_lst:\n",
    "                df[col][i] = mask_val\n",
    "                df[col][i] = mask_val\n",
    "                df[col][i] = mask_val                                                                                                 \n",
    "    return df"
   ]
  },
  {
   "cell_type": "code",
   "execution_count": 85,
   "id": "7994d854-7667-42a6-9f6b-6e481e5c937c",
   "metadata": {
    "execution": {
     "iopub.execute_input": "2022-11-21T23:27:42.980932Z",
     "iopub.status.busy": "2022-11-21T23:27:42.980580Z",
     "iopub.status.idle": "2022-11-21T23:28:04.763475Z",
     "shell.execute_reply": "2022-11-21T23:28:04.762906Z",
     "shell.execute_reply.started": "2022-11-21T23:27:42.980907Z"
    },
    "tags": []
   },
   "outputs": [
    {
     "name": "stderr",
     "output_type": "stream",
     "text": [
      "/tmp/ipykernel_1064/2662981998.py:6: SettingWithCopyWarning: \n",
      "A value is trying to be set on a copy of a slice from a DataFrame\n",
      "\n",
      "See the caveats in the documentation: https://pandas.pydata.org/pandas-docs/stable/user_guide/indexing.html#returning-a-view-versus-a-copy\n",
      "  df[col][i] = mask_val\n",
      "/tmp/ipykernel_1064/2662981998.py:7: SettingWithCopyWarning: \n",
      "A value is trying to be set on a copy of a slice from a DataFrame\n",
      "\n",
      "See the caveats in the documentation: https://pandas.pydata.org/pandas-docs/stable/user_guide/indexing.html#returning-a-view-versus-a-copy\n",
      "  df[col][i] = mask_val\n",
      "/tmp/ipykernel_1064/2662981998.py:8: SettingWithCopyWarning: \n",
      "A value is trying to be set on a copy of a slice from a DataFrame\n",
      "\n",
      "See the caveats in the documentation: https://pandas.pydata.org/pandas-docs/stable/user_guide/indexing.html#returning-a-view-versus-a-copy\n",
      "  df[col][i] = mask_val\n"
     ]
    },
    {
     "data": {
      "text/html": [
       "<div>\n",
       "<style scoped>\n",
       "    .dataframe tbody tr th:only-of-type {\n",
       "        vertical-align: middle;\n",
       "    }\n",
       "\n",
       "    .dataframe tbody tr th {\n",
       "        vertical-align: top;\n",
       "    }\n",
       "\n",
       "    .dataframe thead th {\n",
       "        text-align: right;\n",
       "    }\n",
       "</style>\n",
       "<table border=\"1\" class=\"dataframe\">\n",
       "  <thead>\n",
       "    <tr style=\"text-align: right;\">\n",
       "      <th></th>\n",
       "      <th>trajectory_id</th>\n",
       "      <th>datetime</th>\n",
       "      <th>latitude</th>\n",
       "      <th>longitude</th>\n",
       "      <th>temperature</th>\n",
       "      <th>timestamp_minute</th>\n",
       "    </tr>\n",
       "  </thead>\n",
       "  <tbody>\n",
       "    <tr>\n",
       "      <th>0</th>\n",
       "      <td>1</td>\n",
       "      <td>4/13/2022 21:00</td>\n",
       "      <td>47.484776</td>\n",
       "      <td>-63.311108</td>\n",
       "      <td>2</td>\n",
       "      <td>0</td>\n",
       "    </tr>\n",
       "    <tr>\n",
       "      <th>1</th>\n",
       "      <td>1</td>\n",
       "      <td>4/13/2022 21:10</td>\n",
       "      <td>-999.000000</td>\n",
       "      <td>-999.000000</td>\n",
       "      <td>-999</td>\n",
       "      <td>10</td>\n",
       "    </tr>\n",
       "    <tr>\n",
       "      <th>2</th>\n",
       "      <td>1</td>\n",
       "      <td>4/13/2022 21:20</td>\n",
       "      <td>-999.000000</td>\n",
       "      <td>-999.000000</td>\n",
       "      <td>-999</td>\n",
       "      <td>20</td>\n",
       "    </tr>\n",
       "    <tr>\n",
       "      <th>3</th>\n",
       "      <td>1</td>\n",
       "      <td>4/13/2022 21:30</td>\n",
       "      <td>-999.000000</td>\n",
       "      <td>-999.000000</td>\n",
       "      <td>-999</td>\n",
       "      <td>30</td>\n",
       "    </tr>\n",
       "    <tr>\n",
       "      <th>4</th>\n",
       "      <td>1</td>\n",
       "      <td>4/13/2022 21:40</td>\n",
       "      <td>-999.000000</td>\n",
       "      <td>-999.000000</td>\n",
       "      <td>-999</td>\n",
       "      <td>40</td>\n",
       "    </tr>\n",
       "    <tr>\n",
       "      <th>...</th>\n",
       "      <td>...</td>\n",
       "      <td>...</td>\n",
       "      <td>...</td>\n",
       "      <td>...</td>\n",
       "      <td>...</td>\n",
       "      <td>...</td>\n",
       "    </tr>\n",
       "    <tr>\n",
       "      <th>514</th>\n",
       "      <td>1</td>\n",
       "      <td>4/17/2022 10:40</td>\n",
       "      <td>-999.000000</td>\n",
       "      <td>-999.000000</td>\n",
       "      <td>-999</td>\n",
       "      <td>40</td>\n",
       "    </tr>\n",
       "    <tr>\n",
       "      <th>515</th>\n",
       "      <td>1</td>\n",
       "      <td>4/17/2022 10:50</td>\n",
       "      <td>-999.000000</td>\n",
       "      <td>-999.000000</td>\n",
       "      <td>-999</td>\n",
       "      <td>50</td>\n",
       "    </tr>\n",
       "    <tr>\n",
       "      <th>516</th>\n",
       "      <td>1</td>\n",
       "      <td>4/17/2022 11:00</td>\n",
       "      <td>47.901695</td>\n",
       "      <td>-62.330463</td>\n",
       "      <td>12</td>\n",
       "      <td>0</td>\n",
       "    </tr>\n",
       "    <tr>\n",
       "      <th>517</th>\n",
       "      <td>1</td>\n",
       "      <td>4/17/2022 11:10</td>\n",
       "      <td>-999.000000</td>\n",
       "      <td>-999.000000</td>\n",
       "      <td>-999</td>\n",
       "      <td>10</td>\n",
       "    </tr>\n",
       "    <tr>\n",
       "      <th>518</th>\n",
       "      <td>1</td>\n",
       "      <td>4/17/2022 11:20</td>\n",
       "      <td>-999.000000</td>\n",
       "      <td>-999.000000</td>\n",
       "      <td>-999</td>\n",
       "      <td>20</td>\n",
       "    </tr>\n",
       "  </tbody>\n",
       "</table>\n",
       "<p>519 rows × 6 columns</p>\n",
       "</div>"
      ],
      "text/plain": [
       "     trajectory_id         datetime    latitude   longitude  temperature  \\\n",
       "0                1  4/13/2022 21:00   47.484776  -63.311108            2   \n",
       "1                1  4/13/2022 21:10 -999.000000 -999.000000         -999   \n",
       "2                1  4/13/2022 21:20 -999.000000 -999.000000         -999   \n",
       "3                1  4/13/2022 21:30 -999.000000 -999.000000         -999   \n",
       "4                1  4/13/2022 21:40 -999.000000 -999.000000         -999   \n",
       "..             ...              ...         ...         ...          ...   \n",
       "514              1  4/17/2022 10:40 -999.000000 -999.000000         -999   \n",
       "515              1  4/17/2022 10:50 -999.000000 -999.000000         -999   \n",
       "516              1  4/17/2022 11:00   47.901695  -62.330463           12   \n",
       "517              1  4/17/2022 11:10 -999.000000 -999.000000         -999   \n",
       "518              1  4/17/2022 11:20 -999.000000 -999.000000         -999   \n",
       "\n",
       "     timestamp_minute  \n",
       "0                   0  \n",
       "1                  10  \n",
       "2                  20  \n",
       "3                  30  \n",
       "4                  40  \n",
       "..                ...  \n",
       "514                40  \n",
       "515                50  \n",
       "516                 0  \n",
       "517                10  \n",
       "518                20  \n",
       "\n",
       "[519 rows x 6 columns]"
      ]
     },
     "execution_count": 85,
     "metadata": {},
     "output_type": "execute_result"
    }
   ],
   "source": [
    "mask_rows(df, 0, -999, ['latitude','longitude', 'temperature'])"
   ]
  },
  {
   "cell_type": "code",
   "execution_count": null,
   "id": "d3cd7234-744d-4b3d-90ab-f45c4172e15f",
   "metadata": {},
   "outputs": [],
   "source": []
  }
 ],
 "metadata": {
  "kernelspec": {
   "display_name": "saturn (Python 3)",
   "language": "python",
   "name": "python3"
  },
  "language_info": {
   "codemirror_mode": {
    "name": "ipython",
    "version": 3
   },
   "file_extension": ".py",
   "mimetype": "text/x-python",
   "name": "python",
   "nbconvert_exporter": "python",
   "pygments_lexer": "ipython3",
   "version": "3.9.12"
  }
 },
 "nbformat": 4,
 "nbformat_minor": 5
}
