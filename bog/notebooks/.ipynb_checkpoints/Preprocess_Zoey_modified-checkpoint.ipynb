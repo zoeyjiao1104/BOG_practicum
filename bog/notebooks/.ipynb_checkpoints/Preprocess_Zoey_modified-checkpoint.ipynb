{
 "cells": [
  {
   "cell_type": "code",
   "execution_count": 1,
   "id": "5fd04bbb-b615-4faa-a322-e23b3a75e5a1",
   "metadata": {
    "execution": {
     "iopub.execute_input": "2022-11-29T23:39:58.959182Z",
     "iopub.status.busy": "2022-11-29T23:39:58.958753Z",
     "iopub.status.idle": "2022-11-29T23:39:58.966270Z",
     "shell.execute_reply": "2022-11-29T23:39:58.965556Z",
     "shell.execute_reply.started": "2022-11-29T23:39:58.959106Z"
    },
    "tags": []
   },
   "outputs": [],
   "source": [
    "# Only uncomment if you are running notebook using Docker image\n",
    "import os; os.environ['PROJ_LIB'] = '/opt/conda/share/proj'"
   ]
  },
  {
   "cell_type": "code",
   "execution_count": 2,
   "id": "f54857bc-c85f-49c4-983a-84aa23b09d24",
   "metadata": {
    "execution": {
     "iopub.execute_input": "2022-11-29T23:46:35.090888Z",
     "iopub.status.busy": "2022-11-29T23:46:35.090532Z",
     "iopub.status.idle": "2022-11-29T23:46:35.094208Z",
     "shell.execute_reply": "2022-11-29T23:46:35.093495Z",
     "shell.execute_reply.started": "2022-11-29T23:46:35.090862Z"
    },
    "tags": []
   },
   "outputs": [],
   "source": [
    "import pandas as pd\n",
    "import numpy as np\n",
    "from datetime import datetime"
   ]
  },
  {
   "cell_type": "code",
   "execution_count": 28,
   "id": "7f245740-8d99-47fd-8fb6-0e5690926dfe",
   "metadata": {
    "execution": {
     "iopub.execute_input": "2022-11-29T23:46:35.621818Z",
     "iopub.status.busy": "2022-11-29T23:46:35.621317Z",
     "iopub.status.idle": "2022-11-29T23:46:35.628270Z",
     "shell.execute_reply": "2022-11-29T23:46:35.627710Z",
     "shell.execute_reply.started": "2022-11-29T23:46:35.621789Z"
    },
    "tags": []
   },
   "outputs": [],
   "source": [
    "# Load dataset\n",
    "df = pd.read_csv(\"mass.csv\")\n",
    "df_mock = pd.read_csv('mock_particle_trajectory.csv')"
   ]
  },
  {
   "cell_type": "code",
   "execution_count": 15,
   "id": "95d706be-6ac1-47c9-ae1d-1277701b4733",
   "metadata": {
    "execution": {
     "iopub.execute_input": "2022-11-29T23:46:36.083197Z",
     "iopub.status.busy": "2022-11-29T23:46:36.082884Z",
     "iopub.status.idle": "2022-11-29T23:46:36.092584Z",
     "shell.execute_reply": "2022-11-29T23:46:36.091857Z",
     "shell.execute_reply.started": "2022-11-29T23:46:36.083173Z"
    },
    "tags": []
   },
   "outputs": [
    {
     "data": {
      "text/plain": [
       "datetime.datetime(2022, 4, 13, 21, 0)"
      ]
     },
     "execution_count": 15,
     "metadata": {},
     "output_type": "execute_result"
    }
   ],
   "source": [
    "datetime.strptime(df_mock.iloc[0].datetime, '%m/%d/%Y %H:%M')"
   ]
  },
  {
   "cell_type": "code",
   "execution_count": 25,
   "id": "46bfc4a0",
   "metadata": {},
   "outputs": [
    {
     "data": {
      "text/plain": [
       "'2020-01-25 00:30:00'"
      ]
     },
     "execution_count": 25,
     "metadata": {},
     "output_type": "execute_result"
    }
   ],
   "source": [
    "df.time.iloc[0]"
   ]
  },
  {
   "cell_type": "code",
   "execution_count": 20,
   "id": "0eaaf2de",
   "metadata": {},
   "outputs": [
    {
     "data": {
      "text/plain": [
       "'4/13/2022 21:00'"
      ]
     },
     "execution_count": 20,
     "metadata": {},
     "output_type": "execute_result"
    }
   ],
   "source": [
    "df_mock.datetime.iloc[0]"
   ]
  },
  {
   "cell_type": "code",
   "execution_count": 41,
   "id": "daff901b-e8c7-4305-9aad-43b810577497",
   "metadata": {
    "execution": {
     "iopub.execute_input": "2022-11-29T23:46:38.119813Z",
     "iopub.status.busy": "2022-11-29T23:46:38.119451Z",
     "iopub.status.idle": "2022-11-29T23:46:38.125460Z",
     "shell.execute_reply": "2022-11-29T23:46:38.124785Z",
     "shell.execute_reply.started": "2022-11-29T23:46:38.119787Z"
    },
    "tags": []
   },
   "outputs": [],
   "source": [
    "def datetime_to_timestamp(dt):\n",
    "    #dt is a datetime object\n",
    "    #convert to timestamp integer \n",
    "    return datetime.strptime(dt, '%m/%d/%Y %H:%M').minute"
   ]
  },
  {
   "cell_type": "code",
   "execution_count": 33,
   "id": "cf3b31d2-7068-488a-94da-b389e8bd8c7d",
   "metadata": {
    "execution": {
     "iopub.execute_input": "2022-11-30T00:15:04.189901Z",
     "iopub.status.busy": "2022-11-30T00:15:04.189550Z",
     "iopub.status.idle": "2022-11-30T00:15:04.195406Z",
     "shell.execute_reply": "2022-11-30T00:15:04.194659Z",
     "shell.execute_reply.started": "2022-11-30T00:15:04.189876Z"
    },
    "tags": []
   },
   "outputs": [],
   "source": [
    "def mask_rows(df, time_interval, mask_val, mask_lst):\n",
    "    #df['timestamp_minute'] = df['datetime'].map(lambda x: datetime_to_timestamp(x))\n",
    "    time_format = '%Y-%m-%d %H:%M:%S'\n",
    "    t = datetime.strptime(df.iloc[0].datetime, time_format)\n",
    "    df['tdiff'] = df.datetime.map(lambda x: datetime.strptime(x, time_format)) - t\n",
    "    df['tdiff_min'] = df.tdiff.map(lambda x: int(x.seconds/60))\n",
    "    for i in range(len(df.tdiff_min)):\n",
    "        if(df.tdiff_min[i] % time_interval != 0):\n",
    "            for col in mask_lst:\n",
    "                df[col][i] = mask_val\n",
    "    df_new = df[['trajectory_id', 'time', 'latitude','longitude', 'temperature']]\n",
    "    return df_new"
   ]
  },
  {
   "cell_type": "code",
   "execution_count": 34,
   "id": "7994d854-7667-42a6-9f6b-6e481e5c937c",
   "metadata": {
    "execution": {
     "iopub.execute_input": "2022-11-30T00:15:04.654636Z",
     "iopub.status.busy": "2022-11-30T00:15:04.653860Z",
     "iopub.status.idle": "2022-11-30T00:15:12.189938Z",
     "shell.execute_reply": "2022-11-30T00:15:12.189196Z",
     "shell.execute_reply.started": "2022-11-30T00:15:04.654599Z"
    },
    "tags": []
   },
   "outputs": [
    {
     "ename": "AttributeError",
     "evalue": "'Series' object has no attribute 'datetime'",
     "output_type": "error",
     "traceback": [
      "\u001b[0;31m---------------------------------------------------------------------------\u001b[0m",
      "\u001b[0;31mAttributeError\u001b[0m                            Traceback (most recent call last)",
      "\u001b[0;32m/var/folders/7j/9bzhlncj1cz1thykbfjsvh3h0000gn/T/ipykernel_9716/3959296441.py\u001b[0m in \u001b[0;36m<module>\u001b[0;34m\u001b[0m\n\u001b[0;32m----> 1\u001b[0;31m \u001b[0mmask_rows\u001b[0m\u001b[0;34m(\u001b[0m\u001b[0mdf\u001b[0m\u001b[0;34m,\u001b[0m \u001b[0;36m60\u001b[0m\u001b[0;34m,\u001b[0m \u001b[0;34m-\u001b[0m\u001b[0;36m999\u001b[0m\u001b[0;34m,\u001b[0m \u001b[0;34m[\u001b[0m\u001b[0;34m'latitude'\u001b[0m\u001b[0;34m,\u001b[0m\u001b[0;34m'longitude'\u001b[0m\u001b[0;34m,\u001b[0m \u001b[0;34m'temperature'\u001b[0m\u001b[0;34m]\u001b[0m\u001b[0;34m)\u001b[0m\u001b[0;34m\u001b[0m\u001b[0;34m\u001b[0m\u001b[0m\n\u001b[0m",
      "\u001b[0;32m/var/folders/7j/9bzhlncj1cz1thykbfjsvh3h0000gn/T/ipykernel_9716/2962337945.py\u001b[0m in \u001b[0;36mmask_rows\u001b[0;34m(df, time_interval, mask_val, mask_lst)\u001b[0m\n\u001b[1;32m      2\u001b[0m     \u001b[0;31m#df['timestamp_minute'] = df['datetime'].map(lambda x: datetime_to_timestamp(x))\u001b[0m\u001b[0;34m\u001b[0m\u001b[0;34m\u001b[0m\u001b[0;34m\u001b[0m\u001b[0m\n\u001b[1;32m      3\u001b[0m     \u001b[0mtime_format\u001b[0m \u001b[0;34m=\u001b[0m \u001b[0;34m'%Y-%m-%d %H:%M:%S'\u001b[0m\u001b[0;34m\u001b[0m\u001b[0;34m\u001b[0m\u001b[0m\n\u001b[0;32m----> 4\u001b[0;31m     \u001b[0mt\u001b[0m \u001b[0;34m=\u001b[0m \u001b[0mdatetime\u001b[0m\u001b[0;34m.\u001b[0m\u001b[0mstrptime\u001b[0m\u001b[0;34m(\u001b[0m\u001b[0mdf\u001b[0m\u001b[0;34m.\u001b[0m\u001b[0miloc\u001b[0m\u001b[0;34m[\u001b[0m\u001b[0;36m0\u001b[0m\u001b[0;34m]\u001b[0m\u001b[0;34m.\u001b[0m\u001b[0mdatetime\u001b[0m\u001b[0;34m,\u001b[0m \u001b[0mtime_format\u001b[0m\u001b[0;34m)\u001b[0m\u001b[0;34m\u001b[0m\u001b[0;34m\u001b[0m\u001b[0m\n\u001b[0m\u001b[1;32m      5\u001b[0m     \u001b[0mdf\u001b[0m\u001b[0;34m[\u001b[0m\u001b[0;34m'tdiff'\u001b[0m\u001b[0;34m]\u001b[0m \u001b[0;34m=\u001b[0m \u001b[0mdf\u001b[0m\u001b[0;34m.\u001b[0m\u001b[0mdatetime\u001b[0m\u001b[0;34m.\u001b[0m\u001b[0mmap\u001b[0m\u001b[0;34m(\u001b[0m\u001b[0;32mlambda\u001b[0m \u001b[0mx\u001b[0m\u001b[0;34m:\u001b[0m \u001b[0mdatetime\u001b[0m\u001b[0;34m.\u001b[0m\u001b[0mstrptime\u001b[0m\u001b[0;34m(\u001b[0m\u001b[0mx\u001b[0m\u001b[0;34m,\u001b[0m \u001b[0mtime_format\u001b[0m\u001b[0;34m)\u001b[0m\u001b[0;34m)\u001b[0m \u001b[0;34m-\u001b[0m \u001b[0mt\u001b[0m\u001b[0;34m\u001b[0m\u001b[0;34m\u001b[0m\u001b[0m\n\u001b[1;32m      6\u001b[0m     \u001b[0mdf\u001b[0m\u001b[0;34m[\u001b[0m\u001b[0;34m'tdiff_min'\u001b[0m\u001b[0;34m]\u001b[0m \u001b[0;34m=\u001b[0m \u001b[0mdf\u001b[0m\u001b[0;34m.\u001b[0m\u001b[0mtdiff\u001b[0m\u001b[0;34m.\u001b[0m\u001b[0mmap\u001b[0m\u001b[0;34m(\u001b[0m\u001b[0;32mlambda\u001b[0m \u001b[0mx\u001b[0m\u001b[0;34m:\u001b[0m \u001b[0mint\u001b[0m\u001b[0;34m(\u001b[0m\u001b[0mx\u001b[0m\u001b[0;34m.\u001b[0m\u001b[0mseconds\u001b[0m\u001b[0;34m/\u001b[0m\u001b[0;36m60\u001b[0m\u001b[0;34m)\u001b[0m\u001b[0;34m)\u001b[0m\u001b[0;34m\u001b[0m\u001b[0;34m\u001b[0m\u001b[0m\n",
      "\u001b[0;32m~/opt/anaconda3/lib/python3.8/site-packages/pandas/core/generic.py\u001b[0m in \u001b[0;36m__getattr__\u001b[0;34m(self, name)\u001b[0m\n\u001b[1;32m   5581\u001b[0m         ):\n\u001b[1;32m   5582\u001b[0m             \u001b[0;32mreturn\u001b[0m \u001b[0mself\u001b[0m\u001b[0;34m[\u001b[0m\u001b[0mname\u001b[0m\u001b[0;34m]\u001b[0m\u001b[0;34m\u001b[0m\u001b[0;34m\u001b[0m\u001b[0m\n\u001b[0;32m-> 5583\u001b[0;31m         \u001b[0;32mreturn\u001b[0m \u001b[0mobject\u001b[0m\u001b[0;34m.\u001b[0m\u001b[0m__getattribute__\u001b[0m\u001b[0;34m(\u001b[0m\u001b[0mself\u001b[0m\u001b[0;34m,\u001b[0m \u001b[0mname\u001b[0m\u001b[0;34m)\u001b[0m\u001b[0;34m\u001b[0m\u001b[0;34m\u001b[0m\u001b[0m\n\u001b[0m\u001b[1;32m   5584\u001b[0m \u001b[0;34m\u001b[0m\u001b[0m\n\u001b[1;32m   5585\u001b[0m     \u001b[0;32mdef\u001b[0m \u001b[0m__setattr__\u001b[0m\u001b[0;34m(\u001b[0m\u001b[0mself\u001b[0m\u001b[0;34m,\u001b[0m \u001b[0mname\u001b[0m\u001b[0;34m:\u001b[0m \u001b[0mstr\u001b[0m\u001b[0;34m,\u001b[0m \u001b[0mvalue\u001b[0m\u001b[0;34m)\u001b[0m \u001b[0;34m->\u001b[0m \u001b[0;32mNone\u001b[0m\u001b[0;34m:\u001b[0m\u001b[0;34m\u001b[0m\u001b[0;34m\u001b[0m\u001b[0m\n",
      "\u001b[0;31mAttributeError\u001b[0m: 'Series' object has no attribute 'datetime'"
     ]
    }
   ],
   "source": [
    "mask_rows(df, 60, -999, ['latitude','longitude', 'temperature'])"
   ]
  },
  {
   "cell_type": "code",
   "execution_count": null,
   "id": "d3cd7234-744d-4b3d-90ab-f45c4172e15f",
   "metadata": {},
   "outputs": [],
   "source": []
  }
 ],
 "metadata": {
  "kernelspec": {
   "display_name": "Python 3 (ipykernel)",
   "language": "python",
   "name": "python3"
  },
  "language_info": {
   "codemirror_mode": {
    "name": "ipython",
    "version": 3
   },
   "file_extension": ".py",
   "mimetype": "text/x-python",
   "name": "python",
   "nbconvert_exporter": "python",
   "pygments_lexer": "ipython3",
   "version": "3.8.8"
  }
 },
 "nbformat": 4,
 "nbformat_minor": 5
}
