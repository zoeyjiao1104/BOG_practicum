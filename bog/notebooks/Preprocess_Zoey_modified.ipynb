{
 "cells": [
  {
   "cell_type": "code",
   "execution_count": 1,
   "id": "5fd04bbb-b615-4faa-a322-e23b3a75e5a1",
   "metadata": {
    "execution": {
     "iopub.execute_input": "2022-11-29T23:39:58.959182Z",
     "iopub.status.busy": "2022-11-29T23:39:58.958753Z",
     "iopub.status.idle": "2022-11-29T23:39:58.966270Z",
     "shell.execute_reply": "2022-11-29T23:39:58.965556Z",
     "shell.execute_reply.started": "2022-11-29T23:39:58.959106Z"
    },
    "tags": []
   },
   "outputs": [],
   "source": [
    "# Only uncomment if you are running notebook using Docker image\n",
    "import os; os.environ['PROJ_LIB'] = '/opt/conda/share/proj'"
   ]
  },
  {
   "cell_type": "code",
   "execution_count": 2,
   "id": "f54857bc-c85f-49c4-983a-84aa23b09d24",
   "metadata": {
    "execution": {
     "iopub.execute_input": "2022-11-29T23:46:35.090888Z",
     "iopub.status.busy": "2022-11-29T23:46:35.090532Z",
     "iopub.status.idle": "2022-11-29T23:46:35.094208Z",
     "shell.execute_reply": "2022-11-29T23:46:35.093495Z",
     "shell.execute_reply.started": "2022-11-29T23:46:35.090862Z"
    },
    "tags": []
   },
   "outputs": [],
   "source": [
    "import pandas as pd\n",
    "import numpy as np\n",
    "from datetime import datetime"
   ]
  },
  {
   "cell_type": "code",
   "execution_count": 3,
   "id": "7f245740-8d99-47fd-8fb6-0e5690926dfe",
   "metadata": {
    "execution": {
     "iopub.execute_input": "2022-11-29T23:46:35.621818Z",
     "iopub.status.busy": "2022-11-29T23:46:35.621317Z",
     "iopub.status.idle": "2022-11-29T23:46:35.628270Z",
     "shell.execute_reply": "2022-11-29T23:46:35.627710Z",
     "shell.execute_reply.started": "2022-11-29T23:46:35.621789Z"
    },
    "tags": []
   },
   "outputs": [],
   "source": [
    "# Load dataset\n",
    "df = pd.read_csv(\"mass.csv\")\n",
    "df_mock = pd.read_csv('mock_particle_trajectory.csv')"
   ]
  },
  {
   "cell_type": "code",
   "execution_count": 15,
   "id": "95d706be-6ac1-47c9-ae1d-1277701b4733",
   "metadata": {
    "execution": {
     "iopub.execute_input": "2022-11-29T23:46:36.083197Z",
     "iopub.status.busy": "2022-11-29T23:46:36.082884Z",
     "iopub.status.idle": "2022-11-29T23:46:36.092584Z",
     "shell.execute_reply": "2022-11-29T23:46:36.091857Z",
     "shell.execute_reply.started": "2022-11-29T23:46:36.083173Z"
    },
    "tags": []
   },
   "outputs": [
    {
     "data": {
      "text/plain": [
       "datetime.datetime(2022, 4, 13, 21, 0)"
      ]
     },
     "execution_count": 15,
     "metadata": {},
     "output_type": "execute_result"
    }
   ],
   "source": [
    "datetime.strptime(df_mock.iloc[0].datetime, '%m/%d/%Y %H:%M')"
   ]
  },
  {
   "cell_type": "code",
   "execution_count": 6,
   "id": "1df1ff04",
   "metadata": {},
   "outputs": [
    {
     "data": {
      "text/plain": [
       "datetime.datetime(2020, 1, 25, 0, 30)"
      ]
     },
     "execution_count": 6,
     "metadata": {},
     "output_type": "execute_result"
    }
   ],
   "source": [
    "datetime.strptime(df.iloc[0].time, '%Y-%m-%d %H:%M:%S')"
   ]
  },
  {
   "cell_type": "code",
   "execution_count": 25,
   "id": "5712629c",
   "metadata": {},
   "outputs": [
    {
     "data": {
      "text/plain": [
       "'2020-01-25 00:30:00'"
      ]
     },
     "execution_count": 25,
     "metadata": {},
     "output_type": "execute_result"
    }
   ],
   "source": [
    "df.time.iloc[0]"
   ]
  },
  {
   "cell_type": "code",
   "execution_count": 20,
   "id": "4725783f",
   "metadata": {},
   "outputs": [
    {
     "data": {
      "text/plain": [
       "'4/13/2022 21:00'"
      ]
     },
     "execution_count": 20,
     "metadata": {},
     "output_type": "execute_result"
    }
   ],
   "source": [
    "df_mock.datetime.iloc[0]"
   ]
  },
  {
   "cell_type": "code",
   "execution_count": 15,
   "id": "2ab1840d",
   "metadata": {},
   "outputs": [
    {
     "data": {
      "text/html": [
       "<div>\n",
       "<style scoped>\n",
       "    .dataframe tbody tr th:only-of-type {\n",
       "        vertical-align: middle;\n",
       "    }\n",
       "\n",
       "    .dataframe tbody tr th {\n",
       "        vertical-align: top;\n",
       "    }\n",
       "\n",
       "    .dataframe thead th {\n",
       "        text-align: right;\n",
       "    }\n",
       "</style>\n",
       "<table border=\"1\" class=\"dataframe\">\n",
       "  <thead>\n",
       "    <tr style=\"text-align: right;\">\n",
       "      <th></th>\n",
       "      <th>Unnamed: 0</th>\n",
       "      <th>trajectory_id</th>\n",
       "      <th>time</th>\n",
       "      <th>lat</th>\n",
       "      <th>lon</th>\n",
       "      <th>temperature</th>\n",
       "      <th>fishery_id</th>\n",
       "      <th>tdiff</th>\n",
       "      <th>tdiff_min</th>\n",
       "    </tr>\n",
       "  </thead>\n",
       "  <tbody>\n",
       "    <tr>\n",
       "      <th>0</th>\n",
       "      <td>0</td>\n",
       "      <td>0</td>\n",
       "      <td>2020-01-25 00:30:00</td>\n",
       "      <td>37.874336</td>\n",
       "      <td>-63.178898</td>\n",
       "      <td>22.388254</td>\n",
       "      <td>2</td>\n",
       "      <td>0 days 00:00:00</td>\n",
       "      <td>0</td>\n",
       "    </tr>\n",
       "    <tr>\n",
       "      <th>1</th>\n",
       "      <td>1</td>\n",
       "      <td>0</td>\n",
       "      <td>2020-01-25 01:30:00</td>\n",
       "      <td>37.887850</td>\n",
       "      <td>-63.181230</td>\n",
       "      <td>22.388254</td>\n",
       "      <td>2</td>\n",
       "      <td>0 days 01:00:00</td>\n",
       "      <td>60</td>\n",
       "    </tr>\n",
       "    <tr>\n",
       "      <th>2</th>\n",
       "      <td>2</td>\n",
       "      <td>0</td>\n",
       "      <td>2020-01-25 02:30:00</td>\n",
       "      <td>37.902023</td>\n",
       "      <td>-63.183067</td>\n",
       "      <td>22.388254</td>\n",
       "      <td>2</td>\n",
       "      <td>0 days 02:00:00</td>\n",
       "      <td>120</td>\n",
       "    </tr>\n",
       "    <tr>\n",
       "      <th>3</th>\n",
       "      <td>3</td>\n",
       "      <td>0</td>\n",
       "      <td>2020-01-25 03:30:00</td>\n",
       "      <td>37.916830</td>\n",
       "      <td>-63.184418</td>\n",
       "      <td>22.388254</td>\n",
       "      <td>2</td>\n",
       "      <td>0 days 03:00:00</td>\n",
       "      <td>180</td>\n",
       "    </tr>\n",
       "    <tr>\n",
       "      <th>4</th>\n",
       "      <td>4</td>\n",
       "      <td>0</td>\n",
       "      <td>2020-01-25 04:30:00</td>\n",
       "      <td>37.932198</td>\n",
       "      <td>-63.185200</td>\n",
       "      <td>22.388254</td>\n",
       "      <td>2</td>\n",
       "      <td>0 days 04:00:00</td>\n",
       "      <td>240</td>\n",
       "    </tr>\n",
       "    <tr>\n",
       "      <th>...</th>\n",
       "      <td>...</td>\n",
       "      <td>...</td>\n",
       "      <td>...</td>\n",
       "      <td>...</td>\n",
       "      <td>...</td>\n",
       "      <td>...</td>\n",
       "      <td>...</td>\n",
       "      <td>...</td>\n",
       "      <td>...</td>\n",
       "    </tr>\n",
       "    <tr>\n",
       "      <th>288495</th>\n",
       "      <td>288495</td>\n",
       "      <td>499</td>\n",
       "      <td>2020-02-17 20:30:00</td>\n",
       "      <td>38.492447</td>\n",
       "      <td>-73.935140</td>\n",
       "      <td>13.419521</td>\n",
       "      <td>2</td>\n",
       "      <td>23 days 20:00:00</td>\n",
       "      <td>1200</td>\n",
       "    </tr>\n",
       "    <tr>\n",
       "      <th>288496</th>\n",
       "      <td>288496</td>\n",
       "      <td>499</td>\n",
       "      <td>2020-02-17 21:30:00</td>\n",
       "      <td>38.492447</td>\n",
       "      <td>-73.935140</td>\n",
       "      <td>13.419521</td>\n",
       "      <td>2</td>\n",
       "      <td>23 days 21:00:00</td>\n",
       "      <td>1260</td>\n",
       "    </tr>\n",
       "    <tr>\n",
       "      <th>288497</th>\n",
       "      <td>288497</td>\n",
       "      <td>499</td>\n",
       "      <td>2020-02-17 22:30:00</td>\n",
       "      <td>38.492447</td>\n",
       "      <td>-73.935140</td>\n",
       "      <td>13.419521</td>\n",
       "      <td>2</td>\n",
       "      <td>23 days 22:00:00</td>\n",
       "      <td>1320</td>\n",
       "    </tr>\n",
       "    <tr>\n",
       "      <th>288498</th>\n",
       "      <td>288498</td>\n",
       "      <td>499</td>\n",
       "      <td>2020-02-17 23:30:00</td>\n",
       "      <td>38.492447</td>\n",
       "      <td>-73.935140</td>\n",
       "      <td>13.419521</td>\n",
       "      <td>2</td>\n",
       "      <td>23 days 23:00:00</td>\n",
       "      <td>1380</td>\n",
       "    </tr>\n",
       "    <tr>\n",
       "      <th>288499</th>\n",
       "      <td>288499</td>\n",
       "      <td>499</td>\n",
       "      <td>2020-02-18 00:30:00</td>\n",
       "      <td>38.492447</td>\n",
       "      <td>-73.935140</td>\n",
       "      <td>13.419521</td>\n",
       "      <td>2</td>\n",
       "      <td>24 days 00:00:00</td>\n",
       "      <td>0</td>\n",
       "    </tr>\n",
       "  </tbody>\n",
       "</table>\n",
       "<p>288500 rows × 9 columns</p>\n",
       "</div>"
      ],
      "text/plain": [
       "        Unnamed: 0  trajectory_id                 time        lat        lon  \\\n",
       "0                0              0  2020-01-25 00:30:00  37.874336 -63.178898   \n",
       "1                1              0  2020-01-25 01:30:00  37.887850 -63.181230   \n",
       "2                2              0  2020-01-25 02:30:00  37.902023 -63.183067   \n",
       "3                3              0  2020-01-25 03:30:00  37.916830 -63.184418   \n",
       "4                4              0  2020-01-25 04:30:00  37.932198 -63.185200   \n",
       "...            ...            ...                  ...        ...        ...   \n",
       "288495      288495            499  2020-02-17 20:30:00  38.492447 -73.935140   \n",
       "288496      288496            499  2020-02-17 21:30:00  38.492447 -73.935140   \n",
       "288497      288497            499  2020-02-17 22:30:00  38.492447 -73.935140   \n",
       "288498      288498            499  2020-02-17 23:30:00  38.492447 -73.935140   \n",
       "288499      288499            499  2020-02-18 00:30:00  38.492447 -73.935140   \n",
       "\n",
       "        temperature  fishery_id            tdiff  tdiff_min  \n",
       "0         22.388254           2  0 days 00:00:00          0  \n",
       "1         22.388254           2  0 days 01:00:00         60  \n",
       "2         22.388254           2  0 days 02:00:00        120  \n",
       "3         22.388254           2  0 days 03:00:00        180  \n",
       "4         22.388254           2  0 days 04:00:00        240  \n",
       "...             ...         ...              ...        ...  \n",
       "288495    13.419521           2 23 days 20:00:00       1200  \n",
       "288496    13.419521           2 23 days 21:00:00       1260  \n",
       "288497    13.419521           2 23 days 22:00:00       1320  \n",
       "288498    13.419521           2 23 days 23:00:00       1380  \n",
       "288499    13.419521           2 24 days 00:00:00          0  \n",
       "\n",
       "[288500 rows x 9 columns]"
      ]
     },
     "execution_count": 15,
     "metadata": {},
     "output_type": "execute_result"
    }
   ],
   "source": [
    "df"
   ]
  },
  {
   "cell_type": "code",
   "execution_count": 19,
   "id": "cf3b31d2-7068-488a-94da-b389e8bd8c7d",
   "metadata": {
    "execution": {
     "iopub.execute_input": "2022-11-30T00:15:04.189901Z",
     "iopub.status.busy": "2022-11-30T00:15:04.189550Z",
     "iopub.status.idle": "2022-11-30T00:15:04.195406Z",
     "shell.execute_reply": "2022-11-30T00:15:04.194659Z",
     "shell.execute_reply.started": "2022-11-30T00:15:04.189876Z"
    },
    "tags": []
   },
   "outputs": [],
   "source": [
    "def mask_rows(df, time_interval, mask_val, mask_lst):\n",
    "    #df['timestamp_minute'] = df['datetime'].map(lambda x: datetime_to_timestamp(x))\n",
    "    time_format = '%Y-%m-%d %H:%M:%S'\n",
    "    t = datetime.strptime(df.iloc[0].time, time_format)\n",
    "    df['tdiff'] = df.time.map(lambda x: datetime.strptime(x, time_format)) - t\n",
    "    df['tdiff_min'] = df.tdiff.map(lambda x: int(x.seconds/60))\n",
    "    for i in range(len(df.tdiff_min)):\n",
    "        if(df.tdiff_min[i] % time_interval != 0):\n",
    "            for col in mask_lst:\n",
    "                df[col][i] = mask_val\n",
    "    df_new = df[['trajectory_id', 'time', 'lat','lon', 'temperature']]\n",
    "    return df_new"
   ]
  },
  {
   "cell_type": "code",
   "execution_count": 25,
   "id": "7994d854-7667-42a6-9f6b-6e481e5c937c",
   "metadata": {
    "execution": {
     "iopub.execute_input": "2022-11-30T00:15:04.654636Z",
     "iopub.status.busy": "2022-11-30T00:15:04.653860Z",
     "iopub.status.idle": "2022-11-30T00:15:12.189938Z",
     "shell.execute_reply": "2022-11-30T00:15:12.189196Z",
     "shell.execute_reply.started": "2022-11-30T00:15:04.654599Z"
    },
    "tags": []
   },
   "outputs": [
    {
     "name": "stderr",
     "output_type": "stream",
     "text": [
      "/var/folders/7j/9bzhlncj1cz1thykbfjsvh3h0000gn/T/ipykernel_13140/2671268819.py:5: SettingWithCopyWarning: \n",
      "A value is trying to be set on a copy of a slice from a DataFrame.\n",
      "Try using .loc[row_indexer,col_indexer] = value instead\n",
      "\n",
      "See the caveats in the documentation: https://pandas.pydata.org/pandas-docs/stable/user_guide/indexing.html#returning-a-view-versus-a-copy\n",
      "  df['tdiff'] = df.time.map(lambda x: datetime.strptime(x, time_format)) - t\n",
      "/var/folders/7j/9bzhlncj1cz1thykbfjsvh3h0000gn/T/ipykernel_13140/2671268819.py:6: SettingWithCopyWarning: \n",
      "A value is trying to be set on a copy of a slice from a DataFrame.\n",
      "Try using .loc[row_indexer,col_indexer] = value instead\n",
      "\n",
      "See the caveats in the documentation: https://pandas.pydata.org/pandas-docs/stable/user_guide/indexing.html#returning-a-view-versus-a-copy\n",
      "  df['tdiff_min'] = df.tdiff.map(lambda x: int(x.seconds/60))\n",
      "/var/folders/7j/9bzhlncj1cz1thykbfjsvh3h0000gn/T/ipykernel_13140/2671268819.py:10: SettingWithCopyWarning: \n",
      "A value is trying to be set on a copy of a slice from a DataFrame\n",
      "\n",
      "See the caveats in the documentation: https://pandas.pydata.org/pandas-docs/stable/user_guide/indexing.html#returning-a-view-versus-a-copy\n",
      "  df[col][i] = mask_val\n"
     ]
    },
    {
     "data": {
      "text/html": [
       "<div>\n",
       "<style scoped>\n",
       "    .dataframe tbody tr th:only-of-type {\n",
       "        vertical-align: middle;\n",
       "    }\n",
       "\n",
       "    .dataframe tbody tr th {\n",
       "        vertical-align: top;\n",
       "    }\n",
       "\n",
       "    .dataframe thead th {\n",
       "        text-align: right;\n",
       "    }\n",
       "</style>\n",
       "<table border=\"1\" class=\"dataframe\">\n",
       "  <thead>\n",
       "    <tr style=\"text-align: right;\">\n",
       "      <th></th>\n",
       "      <th>trajectory_id</th>\n",
       "      <th>time</th>\n",
       "      <th>lat</th>\n",
       "      <th>lon</th>\n",
       "      <th>temperature</th>\n",
       "    </tr>\n",
       "  </thead>\n",
       "  <tbody>\n",
       "    <tr>\n",
       "      <th>0</th>\n",
       "      <td>0</td>\n",
       "      <td>2020-01-25 00:30:00</td>\n",
       "      <td>37.874336</td>\n",
       "      <td>-63.178898</td>\n",
       "      <td>22.388254</td>\n",
       "    </tr>\n",
       "    <tr>\n",
       "      <th>1</th>\n",
       "      <td>0</td>\n",
       "      <td>2020-01-25 01:30:00</td>\n",
       "      <td>-999.000000</td>\n",
       "      <td>-999.000000</td>\n",
       "      <td>-999.000000</td>\n",
       "    </tr>\n",
       "    <tr>\n",
       "      <th>2</th>\n",
       "      <td>0</td>\n",
       "      <td>2020-01-25 02:30:00</td>\n",
       "      <td>-999.000000</td>\n",
       "      <td>-999.000000</td>\n",
       "      <td>-999.000000</td>\n",
       "    </tr>\n",
       "    <tr>\n",
       "      <th>3</th>\n",
       "      <td>0</td>\n",
       "      <td>2020-01-25 03:30:00</td>\n",
       "      <td>-999.000000</td>\n",
       "      <td>-999.000000</td>\n",
       "      <td>-999.000000</td>\n",
       "    </tr>\n",
       "    <tr>\n",
       "      <th>4</th>\n",
       "      <td>0</td>\n",
       "      <td>2020-01-25 04:30:00</td>\n",
       "      <td>-999.000000</td>\n",
       "      <td>-999.000000</td>\n",
       "      <td>-999.000000</td>\n",
       "    </tr>\n",
       "    <tr>\n",
       "      <th>...</th>\n",
       "      <td>...</td>\n",
       "      <td>...</td>\n",
       "      <td>...</td>\n",
       "      <td>...</td>\n",
       "      <td>...</td>\n",
       "    </tr>\n",
       "    <tr>\n",
       "      <th>495</th>\n",
       "      <td>0</td>\n",
       "      <td>2020-02-14 15:30:00</td>\n",
       "      <td>-999.000000</td>\n",
       "      <td>-999.000000</td>\n",
       "      <td>-999.000000</td>\n",
       "    </tr>\n",
       "    <tr>\n",
       "      <th>496</th>\n",
       "      <td>0</td>\n",
       "      <td>2020-02-14 16:30:00</td>\n",
       "      <td>-999.000000</td>\n",
       "      <td>-999.000000</td>\n",
       "      <td>-999.000000</td>\n",
       "    </tr>\n",
       "    <tr>\n",
       "      <th>497</th>\n",
       "      <td>0</td>\n",
       "      <td>2020-02-14 17:30:00</td>\n",
       "      <td>-999.000000</td>\n",
       "      <td>-999.000000</td>\n",
       "      <td>-999.000000</td>\n",
       "    </tr>\n",
       "    <tr>\n",
       "      <th>498</th>\n",
       "      <td>0</td>\n",
       "      <td>2020-02-14 18:30:00</td>\n",
       "      <td>-999.000000</td>\n",
       "      <td>-999.000000</td>\n",
       "      <td>-999.000000</td>\n",
       "    </tr>\n",
       "    <tr>\n",
       "      <th>499</th>\n",
       "      <td>0</td>\n",
       "      <td>2020-02-14 19:30:00</td>\n",
       "      <td>-999.000000</td>\n",
       "      <td>-999.000000</td>\n",
       "      <td>-999.000000</td>\n",
       "    </tr>\n",
       "  </tbody>\n",
       "</table>\n",
       "<p>500 rows × 5 columns</p>\n",
       "</div>"
      ],
      "text/plain": [
       "     trajectory_id                 time         lat         lon  temperature\n",
       "0                0  2020-01-25 00:30:00   37.874336  -63.178898    22.388254\n",
       "1                0  2020-01-25 01:30:00 -999.000000 -999.000000  -999.000000\n",
       "2                0  2020-01-25 02:30:00 -999.000000 -999.000000  -999.000000\n",
       "3                0  2020-01-25 03:30:00 -999.000000 -999.000000  -999.000000\n",
       "4                0  2020-01-25 04:30:00 -999.000000 -999.000000  -999.000000\n",
       "..             ...                  ...         ...         ...          ...\n",
       "495              0  2020-02-14 15:30:00 -999.000000 -999.000000  -999.000000\n",
       "496              0  2020-02-14 16:30:00 -999.000000 -999.000000  -999.000000\n",
       "497              0  2020-02-14 17:30:00 -999.000000 -999.000000  -999.000000\n",
       "498              0  2020-02-14 18:30:00 -999.000000 -999.000000  -999.000000\n",
       "499              0  2020-02-14 19:30:00 -999.000000 -999.000000  -999.000000\n",
       "\n",
       "[500 rows x 5 columns]"
      ]
     },
     "execution_count": 25,
     "metadata": {},
     "output_type": "execute_result"
    }
   ],
   "source": [
    "mask_rows(df.head(500), 22, -999, ['lat','lon', 'temperature'])"
   ]
  },
  {
   "cell_type": "code",
   "execution_count": null,
   "id": "d3cd7234-744d-4b3d-90ab-f45c4172e15f",
   "metadata": {},
   "outputs": [],
   "source": []
  },
  {
   "cell_type": "code",
   "execution_count": null,
   "id": "39ad7efa",
   "metadata": {},
   "outputs": [],
   "source": []
  }
 ],
 "metadata": {
  "kernelspec": {
   "display_name": "Python 3 (ipykernel)",
   "language": "python",
   "name": "python3"
  },
  "language_info": {
   "codemirror_mode": {
    "name": "ipython",
    "version": 3
   },
   "file_extension": ".py",
   "mimetype": "text/x-python",
   "name": "python",
   "nbconvert_exporter": "python",
   "pygments_lexer": "ipython3",
   "version": "3.8.8"
  }
 },
 "nbformat": 4,
 "nbformat_minor": 5
}
